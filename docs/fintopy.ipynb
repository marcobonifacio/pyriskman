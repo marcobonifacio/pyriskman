{
 "cells": [
  {
   "cell_type": "markdown",
   "id": "perceived-prefix",
   "metadata": {},
   "source": [
    "# Fintopy #\n",
    "## Pandas extensions for financial markets ##"
   ]
  },
  {
   "cell_type": "code",
   "execution_count": 1,
   "id": "helpful-relative",
   "metadata": {},
   "outputs": [],
   "source": [
    "import pandas as pd\n",
    "from xbbg import blp\n",
    "import fintopy"
   ]
  },
  {
   "cell_type": "markdown",
   "id": "reported-cinema",
   "metadata": {},
   "source": [
    "## Data ##"
   ]
  },
  {
   "cell_type": "code",
   "execution_count": 2,
   "id": "facial-quarterly",
   "metadata": {},
   "outputs": [
    {
     "data": {
      "text/plain": [
       "2021-01-04    217.1898\n",
       "2021-01-05    217.3993\n",
       "2021-01-06    211.7623\n",
       "2021-01-07    217.7884\n",
       "2021-01-08    219.1153\n",
       "Name: MSFT US Equity, dtype: float64"
      ]
     },
     "execution_count": 2,
     "metadata": {},
     "output_type": "execute_result"
    }
   ],
   "source": [
    "s = blp.bdh('MSFT US Equity', 'PX_LAST', '2021-01-01', '2021-01-31')\n",
    "s.columns = s.columns.droplevel(1)\n",
    "s = s.iloc[:, 0]\n",
    "s.head()"
   ]
  },
  {
   "cell_type": "markdown",
   "id": "advisory-blair",
   "metadata": {},
   "source": [
    "## Prices ##"
   ]
  },
  {
   "cell_type": "markdown",
   "id": "north-airline",
   "metadata": {},
   "source": [
    "### Set_frequency() ###"
   ]
  },
  {
   "cell_type": "code",
   "execution_count": 3,
   "id": "certified-decline",
   "metadata": {},
   "outputs": [
    {
     "data": {
      "text/plain": [
       "2021-01-04    217.1898\n",
       "2021-01-05    217.3993\n",
       "2021-01-06    211.7623\n",
       "2021-01-07    217.7884\n",
       "2021-01-08    219.1153\n",
       "2021-01-11    216.9902\n",
       "2021-01-12    214.4361\n",
       "2021-01-13    215.8429\n",
       "2021-01-14    212.5305\n",
       "2021-01-15    212.1614\n",
       "2021-01-18    212.1614\n",
       "2021-01-19    215.9426\n",
       "2021-01-20    223.8245\n",
       "2021-01-21    224.4530\n",
       "2021-01-22    225.4308\n",
       "2021-01-25    229.0026\n",
       "2021-01-26    231.7961\n",
       "2021-01-27    232.3648\n",
       "2021-01-28    238.3810\n",
       "2021-01-29    231.4270\n",
       "Freq: B, Name: MSFT US Equity, dtype: float64"
      ]
     },
     "execution_count": 3,
     "metadata": {},
     "output_type": "execute_result"
    }
   ],
   "source": [
    "# Set the frequency of the series to Business Day\n",
    "s.prices.set_frequency()"
   ]
  },
  {
   "cell_type": "code",
   "execution_count": 6,
   "id": "detected-standard",
   "metadata": {},
   "outputs": [
    {
     "data": {
      "text/plain": [
       "2021-01-08    219.1153\n",
       "2021-01-15    212.1614\n",
       "2021-01-22    225.4308\n",
       "2021-01-29    231.4270\n",
       "Freq: W-FRI, Name: MSFT US Equity, dtype: float64"
      ]
     },
     "execution_count": 6,
     "metadata": {},
     "output_type": "execute_result"
    }
   ],
   "source": [
    "s.prices.set_frequency('BW')"
   ]
  },
  {
   "cell_type": "markdown",
   "id": "documentary-stable",
   "metadata": {},
   "source": [
    "### Rebase() ###"
   ]
  },
  {
   "cell_type": "code",
   "execution_count": 7,
   "id": "entertaining-screening",
   "metadata": {},
   "outputs": [
    {
     "data": {
      "text/plain": [
       "2021-01-04    200.000000\n",
       "2021-01-05    200.192919\n",
       "2021-01-06    195.002067\n",
       "2021-01-07    200.551223\n",
       "2021-01-08    201.773104\n",
       "Name: MSFT US Equity, dtype: float64"
      ]
     },
     "execution_count": 7,
     "metadata": {},
     "output_type": "execute_result"
    }
   ],
   "source": [
    "s.prices.rebase(base=200).head()"
   ]
  },
  {
   "cell_type": "code",
   "execution_count": null,
   "id": "distinguished-russell",
   "metadata": {},
   "outputs": [],
   "source": []
  }
 ],
 "metadata": {
  "kernelspec": {
   "display_name": "Python 3",
   "language": "python",
   "name": "python3"
  },
  "language_info": {
   "codemirror_mode": {
    "name": "ipython",
    "version": 3
   },
   "file_extension": ".py",
   "mimetype": "text/x-python",
   "name": "python",
   "nbconvert_exporter": "python",
   "pygments_lexer": "ipython3",
   "version": "3.8.6"
  }
 },
 "nbformat": 4,
 "nbformat_minor": 5
}
