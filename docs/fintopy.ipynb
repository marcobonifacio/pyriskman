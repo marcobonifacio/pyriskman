{
 "cells": [
  {
   "cell_type": "markdown",
   "id": "legislative-essex",
   "metadata": {},
   "source": [
    "# Fintopy #\n",
    "## Pandas extensions for financial markets ##"
   ]
  },
  {
   "cell_type": "code",
   "execution_count": 1,
   "id": "committed-robertson",
   "metadata": {},
   "outputs": [],
   "source": [
    "import pandas as pd\n",
    "from xbbg import blp\n",
    "import fintopy"
   ]
  },
  {
   "cell_type": "markdown",
   "id": "quick-departure",
   "metadata": {},
   "source": [
    "## Data ##"
   ]
  },
  {
   "cell_type": "code",
   "execution_count": 2,
   "id": "developmental-playing",
   "metadata": {},
   "outputs": [
    {
     "data": {
      "text/plain": [
       "2021-01-04    217.1898\n",
       "2021-01-05    217.3993\n",
       "2021-01-06    211.7623\n",
       "2021-01-07    217.7884\n",
       "2021-01-08    219.1153\n",
       "Name: MSFT US Equity, dtype: float64"
      ]
     },
     "execution_count": 2,
     "metadata": {},
     "output_type": "execute_result"
    }
   ],
   "source": [
    "s = blp.bdh('MSFT US Equity', 'PX_LAST', '2021-01-01', '2021-01-31')\n",
    "s.columns = s.columns.droplevel(1)\n",
    "s = s.iloc[:, 0]\n",
    "s.head()"
   ]
  },
  {
   "cell_type": "markdown",
   "id": "numerical-combine",
   "metadata": {},
   "source": [
    "## Prices ##"
   ]
  },
  {
   "cell_type": "markdown",
   "id": "optimum-atlanta",
   "metadata": {},
   "source": [
    "### Set_frequency() ###"
   ]
  },
  {
   "cell_type": "code",
   "execution_count": 3,
   "id": "talented-thumbnail",
   "metadata": {},
   "outputs": [
    {
     "data": {
      "text/plain": [
       "2021-01-04    217.1898\n",
       "2021-01-05    217.3993\n",
       "2021-01-06    211.7623\n",
       "2021-01-07    217.7884\n",
       "2021-01-08    219.1153\n",
       "2021-01-11    216.9902\n",
       "2021-01-12    214.4361\n",
       "2021-01-13    215.8429\n",
       "2021-01-14    212.5305\n",
       "2021-01-15    212.1614\n",
       "2021-01-18    212.1614\n",
       "2021-01-19    215.9426\n",
       "2021-01-20    223.8245\n",
       "2021-01-21    224.4530\n",
       "2021-01-22    225.4308\n",
       "2021-01-25    229.0026\n",
       "2021-01-26    231.7961\n",
       "2021-01-27    232.3648\n",
       "2021-01-28    238.3810\n",
       "2021-01-29    231.4270\n",
       "Freq: B, Name: MSFT US Equity, dtype: float64"
      ]
     },
     "execution_count": 3,
     "metadata": {},
     "output_type": "execute_result"
    }
   ],
   "source": [
    "# Set the frequency of the series to Business Day\n",
    "s.prices.set_frequency()"
   ]
  },
  {
   "cell_type": "code",
   "execution_count": 4,
   "id": "close-render",
   "metadata": {},
   "outputs": [
    {
     "data": {
      "text/plain": [
       "2021-01-08    219.1153\n",
       "2021-01-15    212.1614\n",
       "2021-01-22    225.4308\n",
       "2021-01-29    231.4270\n",
       "Freq: W-FRI, Name: MSFT US Equity, dtype: float64"
      ]
     },
     "execution_count": 4,
     "metadata": {},
     "output_type": "execute_result"
    }
   ],
   "source": [
    "s.prices.set_frequency('BW')"
   ]
  },
  {
   "cell_type": "markdown",
   "id": "defined-sound",
   "metadata": {},
   "source": [
    "### Rebase() ###"
   ]
  },
  {
   "cell_type": "code",
   "execution_count": 5,
   "id": "distinguished-invite",
   "metadata": {},
   "outputs": [
    {
     "data": {
      "text/plain": [
       "2021-01-04    200.000000\n",
       "2021-01-05    200.192919\n",
       "2021-01-06    195.002067\n",
       "2021-01-07    200.551223\n",
       "2021-01-08    201.773104\n",
       "Name: MSFT US Equity, dtype: float64"
      ]
     },
     "execution_count": 5,
     "metadata": {},
     "output_type": "execute_result"
    }
   ],
   "source": [
    "s.prices.rebase(base=200).head()"
   ]
  },
  {
   "cell_type": "markdown",
   "id": "interracial-partner",
   "metadata": {},
   "source": [
    "### Log_returns() ###"
   ]
  },
  {
   "cell_type": "code",
   "execution_count": 6,
   "id": "comfortable-middle",
   "metadata": {},
   "outputs": [
    {
     "data": {
      "text/plain": [
       "2021-01-04         NaN\n",
       "2021-01-05    0.000964\n",
       "2021-01-06   -0.026271\n",
       "2021-01-07    0.028060\n",
       "2021-01-08    0.006074\n",
       "Name: MSFT US Equity, dtype: float64"
      ]
     },
     "execution_count": 6,
     "metadata": {},
     "output_type": "execute_result"
    }
   ],
   "source": [
    "s.prices.log_returns().head()"
   ]
  },
  {
   "cell_type": "markdown",
   "id": "technological-editing",
   "metadata": {},
   "source": [
    "### Pct_ returns() ###"
   ]
  },
  {
   "cell_type": "code",
   "execution_count": 7,
   "id": "decimal-visit",
   "metadata": {},
   "outputs": [
    {
     "data": {
      "text/plain": [
       "2021-01-04         NaN\n",
       "2021-01-05    0.000965\n",
       "2021-01-06   -0.025929\n",
       "2021-01-07    0.028457\n",
       "2021-01-08    0.006093\n",
       "Name: MSFT US Equity, dtype: float64"
      ]
     },
     "execution_count": 7,
     "metadata": {},
     "output_type": "execute_result"
    }
   ],
   "source": [
    "s.prices.pct_returns().head()"
   ]
  },
  {
   "cell_type": "markdown",
   "id": "harmful-easter",
   "metadata": {},
   "source": [
    "### Abs_return() ###"
   ]
  },
  {
   "cell_type": "code",
   "execution_count": 8,
   "id": "immediate-african",
   "metadata": {},
   "outputs": [
    {
     "ename": "AttributeError",
     "evalue": "'numpy.float64' object has no attribute 'div'",
     "output_type": "error",
     "traceback": [
      "\u001b[1;31m---------------------------------------------------------------------------\u001b[0m",
      "\u001b[1;31mAttributeError\u001b[0m                            Traceback (most recent call last)",
      "\u001b[1;32m<ipython-input-8-280f2b790210>\u001b[0m in \u001b[0;36m<module>\u001b[1;34m\u001b[0m\n\u001b[1;32m----> 1\u001b[1;33m \u001b[0ms\u001b[0m\u001b[1;33m.\u001b[0m\u001b[0mprices\u001b[0m\u001b[1;33m.\u001b[0m\u001b[0mabs_return\u001b[0m\u001b[1;33m(\u001b[0m\u001b[1;33m)\u001b[0m\u001b[1;33m\u001b[0m\u001b[1;33m\u001b[0m\u001b[0m\n\u001b[0m",
      "\u001b[1;32m~\\miniforge3\\envs\\dev\\lib\\site-packages\\fintopy\\prices.py\u001b[0m in \u001b[0;36mabs_return\u001b[1;34m(self)\u001b[0m\n\u001b[0;32m     83\u001b[0m             \u001b[0mfloat\u001b[0m\u001b[1;33m:\u001b[0m \u001b[0mThe\u001b[0m \u001b[0mabsolute\u001b[0m \u001b[1;32mreturn\u001b[0m \u001b[0mover\u001b[0m \u001b[0mthe\u001b[0m \u001b[0mseries\u001b[0m\u001b[1;33m.\u001b[0m\u001b[1;33m\u001b[0m\u001b[1;33m\u001b[0m\u001b[0m\n\u001b[0;32m     84\u001b[0m         \"\"\"        \n\u001b[1;32m---> 85\u001b[1;33m         \u001b[1;32mreturn\u001b[0m\u001b[1;33m(\u001b[0m\u001b[0mself\u001b[0m\u001b[1;33m.\u001b[0m\u001b[0m_series\u001b[0m\u001b[1;33m.\u001b[0m\u001b[0miloc\u001b[0m\u001b[1;33m[\u001b[0m\u001b[1;33m-\u001b[0m\u001b[1;36m1\u001b[0m\u001b[1;33m]\u001b[0m\u001b[1;33m.\u001b[0m\u001b[0mdiv\u001b[0m\u001b[1;33m(\u001b[0m\u001b[0mself\u001b[0m\u001b[1;33m.\u001b[0m\u001b[0m_series\u001b[0m\u001b[1;33m.\u001b[0m\u001b[0miloc\u001b[0m\u001b[1;33m[\u001b[0m\u001b[1;36m0\u001b[0m\u001b[1;33m]\u001b[0m\u001b[1;33m)\u001b[0m\u001b[1;33m.\u001b[0m\u001b[0msub\u001b[0m\u001b[1;33m(\u001b[0m\u001b[1;36m1\u001b[0m\u001b[1;33m)\u001b[0m\u001b[1;33m)\u001b[0m\u001b[1;33m\u001b[0m\u001b[1;33m\u001b[0m\u001b[0m\n\u001b[0m\u001b[0;32m     86\u001b[0m \u001b[1;33m\u001b[0m\u001b[0m\n\u001b[0;32m     87\u001b[0m     \u001b[1;32mdef\u001b[0m \u001b[0mannualized_return\u001b[0m\u001b[1;33m(\u001b[0m\u001b[0mself\u001b[0m\u001b[1;33m)\u001b[0m\u001b[1;33m:\u001b[0m\u001b[1;33m\u001b[0m\u001b[1;33m\u001b[0m\u001b[0m\n",
      "\u001b[1;31mAttributeError\u001b[0m: 'numpy.float64' object has no attribute 'div'"
     ]
    }
   ],
   "source": [
    "s.prices.abs_return()"
   ]
  },
  {
   "cell_type": "code",
   "execution_count": 12,
   "id": "incoming-alberta",
   "metadata": {},
   "outputs": [
    {
     "data": {
      "text/plain": [
       "0.031736259403154436"
      ]
     },
     "execution_count": 12,
     "metadata": {},
     "output_type": "execute_result"
    }
   ],
   "source": [
    "((s.cummax() - s) / s.cummax()).max()"
   ]
  },
  {
   "cell_type": "code",
   "execution_count": null,
   "id": "permanent-michael",
   "metadata": {},
   "outputs": [],
   "source": []
  }
 ],
 "metadata": {
  "kernelspec": {
   "display_name": "Python 3",
   "language": "python",
   "name": "python3"
  },
  "language_info": {
   "codemirror_mode": {
    "name": "ipython",
    "version": 3
   },
   "file_extension": ".py",
   "mimetype": "text/x-python",
   "name": "python",
   "nbconvert_exporter": "python",
   "pygments_lexer": "ipython3",
   "version": "3.8.6"
  }
 },
 "nbformat": 4,
 "nbformat_minor": 5
}
